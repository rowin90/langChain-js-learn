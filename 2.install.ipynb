{
 "cells": [
  {
   "cell_type": "code",
   "execution_count": 3,
   "metadata": {},
   "outputs": [
    {
     "data": {
      "text/plain": [
       "\u001b[32m\"您好！很高兴遇见你。能为您提供什么帮助吗？\"\u001b[39m"
      ]
     },
     "execution_count": 3,
     "metadata": {},
     "output_type": "execute_result"
    }
   ],
   "source": [
    "import { Ollama } from \"@langchain/ollama\";\n",
    "import { HumanMessage } from \"@langchain/core/messages\";\n",
    "import { StringOutputParser } from \"@langchain/core/output_parsers\";\n",
    "// StringOutputParser 来处理输出，你可以简单的理解为将 OpenAI 返回的复杂对象提取出最核心的字符串\n",
    "\n",
    "const outputPrase = new StringOutputParser();\n",
    "\n",
    "const chatModel = new Ollama({\n",
    "  baseUrl: \"http://localhost:11434\",\n",
    "  model: \"llama3.1\",\n",
    "});\n",
    "\n",
    "const simpleChain = chatModel.pipe(outputPrase)\n",
    "\n",
    "\n",
    "// 1. invoke\n",
    "// await simpleChain.invoke([\n",
    "//   new HumanMessage(\"讲个笑话\")\n",
    "// ])\n",
    "\n",
    "\n",
    "// 2. batch\n",
    "// await simpleChain.batch([\n",
    "//     [new HumanMessage(\"讲个笑话\")],\n",
    "//     [new HumanMessage(\"1+2等于几\")]\n",
    "// ])\n",
    "\n",
    "// 3. stream\n",
    "// const stream = await simpleChain.stream([\n",
    "//   new HumanMessage(\"讲个笑话\")\n",
    "// ])\n",
    "// for await (const chunk of stream){\n",
    "//  console.log(chunk)\n",
    "// }\n",
    "\n",
    "\n",
    "// 4. streamLog\n",
    "// const stream = await simpleChain.streamLog([\n",
    "//   new HumanMessage(\"讲个笑话\")\n",
    "// ])\n",
    "\n",
    "// for await (const chunk of stream){\n",
    "//  console.log(chunk)\n",
    "// }\n",
    "\n",
    "// 5. 带有 withFallbacks 的模型，如果失败了，要就用其他的模型代替\n",
    "const fakeLLM = new Ollama({\n",
    "  baseUrl: \"http://localhost:11434\",\n",
    "  model: \"llama3.1\",\n",
    "  maxRetries:0\n",
    "});\n",
    "\n",
    "const simpleChain1 = fakeLLM.pipe(outputPrase)\n",
    "\n",
    "// await simpleChain1.invoke('你好')\n",
    "\n",
    "\n",
    "const realLLM = new Ollama({\n",
    "  baseUrl: \"http://localhost:11434\",\n",
    "  model: \"llama3.1\",\n",
    "});\n",
    "\n",
    "const llmWithFallback = simpleChain.withFallbacks({\n",
    "  fallbacks:[realLLM]\n",
    "})\n",
    "\n",
    "await llmWithFallback.invoke(\"你好\")\n"
   ]
  },
  {
   "cell_type": "code",
   "execution_count": null,
   "metadata": {},
   "outputs": [],
   "source": []
  }
 ],
 "metadata": {
  "kernelspec": {
   "display_name": "Deno",
   "language": "typescript",
   "name": "deno"
  },
  "language_info": {
   "codemirror_mode": "typescript",
   "file_extension": ".ts",
   "mimetype": "text/x.typescript",
   "name": "typescript",
   "nbconvert_exporter": "script",
   "pygments_lexer": "typescript",
   "version": "5.5.2"
  }
 },
 "nbformat": 4,
 "nbformat_minor": 4
}
