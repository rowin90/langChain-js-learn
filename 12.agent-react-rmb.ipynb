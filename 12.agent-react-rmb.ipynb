{
 "cells": [
  {
   "cell_type": "code",
   "execution_count": 1,
   "metadata": {},
   "outputs": [
    {
     "name": "stdout",
     "output_type": "stream",
     "text": [
      "process.env : {\n",
      "  SERP_KEY: \"25b0b62d5255d26214324107d058795f094d22a8aad318fde9dfc0964814bf19\",\n",
      "  OPENAI_API_KEY: \"sk-a88pHzo6OaVlmyK0Ae2159A004A8492f94A5499bCc2bF7F8\",\n",
      "  LANGCHAIN_TRACING_V2: \"true\",\n",
      "  LANGCHAIN_API_KEY: \"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\",\n",
      "  LANGCHAIN_PROJECT: \"langchain_for_llm_learn\"\n",
      "}\n"
     ]
    }
   ],
   "source": [
    "import { load } from \"dotenv\";\n",
    "const env = await load();\n",
    "\n",
    "const process = {\n",
    "    env\n",
    "}\n",
    "\n",
    "\n",
    "console.log('process.env :', process.env);"
   ]
  },
  {
   "cell_type": "code",
   "execution_count": 2,
   "metadata": {},
   "outputs": [
    {
     "name": "stderr",
     "output_type": "stream",
     "text": [
      "[WARN]: You have enabled LangSmith tracing without backgrounding callbacks.\n",
      "[WARN]: If you are not using a serverless environment where you must wait for tracing calls to finish,\n",
      "[WARN]: we suggest setting \"process.env.LANGCHAIN_CALLBACKS_BACKGROUND=true\" to avoid additional latency.\n",
      "[WARN]: You have enabled LangSmith tracing without backgrounding callbacks.\n",
      "[WARN]: If you are not using a serverless environment where you must wait for tracing calls to finish,\n",
      "[WARN]: we suggest setting \"process.env.LANGCHAIN_CALLBACKS_BACKGROUND=true\" to avoid additional latency.\n",
      "[WARN]: You have enabled LangSmith tracing without backgrounding callbacks.\n",
      "[WARN]: If you are not using a serverless environment where you must wait for tracing calls to finish,\n",
      "[WARN]: we suggest setting \"process.env.LANGCHAIN_CALLBACKS_BACKGROUND=true\" to avoid additional latency.\n",
      "[WARN]: You have enabled LangSmith tracing without backgrounding callbacks.\n",
      "[WARN]: If you are not using a serverless environment where you must wait for tracing calls to finish,\n",
      "[WARN]: we suggest setting \"process.env.LANGCHAIN_CALLBACKS_BACKGROUND=true\" to avoid additional latency.\n"
     ]
    },
    {
     "name": "stdout",
     "output_type": "stream",
     "text": [
      "prompt : PromptTemplate {\n",
      "  lc_serializable: true,\n",
      "  lc_kwargs: {\n",
      "    template: \"Answer the following questions as best you can. You have access to the following tools:\\n\" +\n",
      "      \"\\n\" +\n",
      "      \"{tools}\\n\" +\n",
      "      \"\\n\" +\n",
      "      \"Use the following format:\\n\" +\n",
      "      \"\\n\" +\n",
      "      \"Question: the input question you must answer\\n\" +\n",
      "      \"Thought: you should always think about what to do\\n\" +\n",
      "      \"Action: the action to take, should be one of [{tool_names}]\\n\" +\n",
      "      \"Action Input: the input to the action\\n\" +\n",
      "      \"Observation: the result of the action\\n\" +\n",
      "      \"... (this Thought/Action/Action Input/Observation can repeat N times)\\n\" +\n",
      "      \"Thought: I now know the final answer\\n\" +\n",
      "      \"Final Answer: the final answer to the original input question\\n\" +\n",
      "      \"\\n\" +\n",
      "      \"Begin!\\n\" +\n",
      "      \"\\n\" +\n",
      "      \"Question: {input}\\n\" +\n",
      "      \"Thought:{agent_scratchpad}\",\n",
      "    inputVariables: [ \"agent_scratchpad\", \"input\", \"tool_names\", \"tools\" ],\n",
      "    templateFormat: \"f-string\",\n",
      "    partialVariables: {}\n",
      "  },\n",
      "  lc_runnable: true,\n",
      "  name: undefined,\n",
      "  lc_namespace: [ \"langchain_core\", \"prompts\", \"prompt\" ],\n",
      "  inputVariables: [ \"agent_scratchpad\", \"input\", \"tool_names\", \"tools\" ],\n",
      "  outputParser: undefined,\n",
      "  partialVariables: {},\n",
      "  template: \"Answer the following questions as best you can. You have access to the following tools:\\n\" +\n",
      "    \"\\n\" +\n",
      "    \"{tools}\\n\" +\n",
      "    \"\\n\" +\n",
      "    \"Use the following format:\\n\" +\n",
      "    \"\\n\" +\n",
      "    \"Question: the input question you must answer\\n\" +\n",
      "    \"Thought: you should always think about what to do\\n\" +\n",
      "    \"Action: the action to take, should be one of [{tool_names}]\\n\" +\n",
      "    \"Action Input: the input to the action\\n\" +\n",
      "    \"Observation: the result of the action\\n\" +\n",
      "    \"... (this Thought/Action/Action Input/Observation can repeat N times)\\n\" +\n",
      "    \"Thought: I now know the final answer\\n\" +\n",
      "    \"Final Answer: the final answer to the original input question\\n\" +\n",
      "    \"\\n\" +\n",
      "    \"Begin!\\n\" +\n",
      "    \"\\n\" +\n",
      "    \"Question: {input}\\n\" +\n",
      "    \"Thought:{agent_scratchpad}\",\n",
      "  templateFormat: \"f-string\",\n",
      "  validateTemplate: true\n",
      "}\n",
      "{ input: \"我有 17 美元，现在相当于多少人民币？\", output: \"119.68人民币\" }\n"
     ]
    }
   ],
   "source": [
    "import { ChatOpenAI } from '@langchain/openai';\n",
    "import { SerpAPI } from '@langchain/community/tools/serpapi';\n",
    "import { AgentExecutor, createReactAgent } from 'langchain/agents';\n",
    "import { pull } from 'langchain/hub';\n",
    "import type { PromptTemplate } from '@langchain/core/prompts';\n",
    "import { Calculator } from '@langchain/community/tools/calculator';\n",
    "\n",
    "const tools = [new SerpAPI(process.env.SERP_KEY), new Calculator()];\n",
    "\n",
    "const prompt = await pull<PromptTemplate>('hwchase17/react');\n",
    "console.log('prompt :', prompt);\n",
    "\n",
    "const llm = new ChatOpenAI({\n",
    "  configuration: {\n",
    "    baseURL: 'https://api.shellgpt.top/v1',\n",
    "  },\n",
    "});\n",
    "\n",
    "const agent = await createReactAgent({\n",
    "  llm,\n",
    "  tools,\n",
    "  prompt,\n",
    "});\n",
    "\n",
    "const agentExecutor = new AgentExecutor({\n",
    "  agent,\n",
    "  tools,\n",
    "});\n",
    "\n",
    "const result = await agentExecutor.invoke({\n",
    "  input: '我有 17 美元，现在相当于多少人民币？',\n",
    "});\n",
    "\n",
    "console.log(result);\n"
   ]
  }
 ],
 "metadata": {
  "kernelspec": {
   "display_name": "Deno",
   "language": "typescript",
   "name": "deno"
  },
  "language_info": {
   "codemirror_mode": "typescript",
   "file_extension": ".ts",
   "mimetype": "text/x.typescript",
   "name": "typescript",
   "nbconvert_exporter": "script",
   "pygments_lexer": "typescript",
   "version": "5.5.2"
  }
 },
 "nbformat": 4,
 "nbformat_minor": 2
}
