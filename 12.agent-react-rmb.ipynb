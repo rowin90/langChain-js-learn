{
 "cells": [
  {
   "cell_type": "code",
   "execution_count": 1,
   "metadata": {},
   "outputs": [],
   "source": [
    "import { load } from \"dotenv\";\n",
    "const env = await load();\n",
    "\n",
    "const process = {\n",
    "    env\n",
    "}\n"
   ]
  },
  {
   "cell_type": "code",
   "execution_count": 2,
   "metadata": {},
   "outputs": [
    {
     "name": "stdout",
     "output_type": "stream",
     "text": [
      "{ input: \"我有 17 美元，现在相当于多少人民币？\", output: \"17美元现在相当于120.19人民币.\" }\n"
     ]
    }
   ],
   "source": [
    "import { ChatOpenAI } from '@langchain/openai';\n",
    "import { SerpAPI } from '@langchain/community/tools/serpapi';\n",
    "import { AgentExecutor, createReactAgent } from 'langchain/agents';\n",
    "import { pull } from 'langchain/hub';\n",
    "import type { PromptTemplate } from '@langchain/core/prompts';\n",
    "import { Calculator } from '@langchain/community/tools/calculator';\n",
    "\n",
    "const tools = [new SerpAPI(process.env.SERP_KEY), new Calculator()];\n",
    "\n",
    "const prompt = await pull<PromptTemplate>('hwchase17/react');\n",
    "\n",
    "const llm = new ChatOpenAI({\n",
    "  configuration: {\n",
    "    baseURL: 'https://api.shellgpt.top/v1',\n",
    "  },\n",
    "});\n",
    "\n",
    "const agent = await createReactAgent({\n",
    "  llm,\n",
    "  tools,\n",
    "  prompt,\n",
    "});\n",
    "\n",
    "const agentExecutor = new AgentExecutor({\n",
    "  agent,\n",
    "  tools,\n",
    "});\n",
    "\n",
    "const result = await agentExecutor.invoke({\n",
    "  input: '我有 17 美元，现在相当于多少人民币？',\n",
    "});\n",
    "\n",
    "console.log(result);\n"
   ]
  }
 ],
 "metadata": {
  "kernelspec": {
   "display_name": "Deno",
   "language": "typescript",
   "name": "deno"
  },
  "language_info": {
   "codemirror_mode": "typescript",
   "file_extension": ".ts",
   "mimetype": "text/x.typescript",
   "name": "typescript",
   "nbconvert_exporter": "script",
   "pygments_lexer": "typescript",
   "version": "5.5.2"
  }
 },
 "nbformat": 4,
 "nbformat_minor": 2
}
