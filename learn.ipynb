{
 "cells": [
  {
   "cell_type": "code",
   "execution_count": null,
   "id": "6d6bf36e-0170-4cba-bb2f-9ee76a6e9306",
   "metadata": {},
   "outputs": [],
   "source": [
    "const text = await Deno.readTextFile(\"./data/qiu.txt\");"
   ]
  },
  {
   "cell_type": "code",
   "execution_count": null,
   "id": "0ae51f50",
   "metadata": {},
   "outputs": [],
   "source": [
    "text"
   ]
  },
  {
   "cell_type": "code",
   "execution_count": null,
   "id": "20db7e3b-1c6c-4bad-a3bb-ace7052f0c95",
   "metadata": {},
   "outputs": [],
   "source": [
    "const txt = text.split('\\n')\n",
    "txt"
   ]
  },
  {
   "cell_type": "code",
   "execution_count": null,
   "id": "02480386-6a17-453e-8214-6c046e0d284e",
   "metadata": {},
   "outputs": [],
   "source": [
    "txt"
   ]
  },
  {
   "cell_type": "code",
   "execution_count": null,
   "id": "f8f70da0-e5b0-497f-9879-3c60211c0d8e",
   "metadata": {},
   "outputs": [],
   "source": [
    "import dayjs from \"dayjs\";\n",
    "// const a = _.random(0, 5);\n",
    "const a = dayjs()\n",
    "a"
   ]
  },
  {
   "cell_type": "code",
   "execution_count": 1,
   "id": "6dbf3dbf",
   "metadata": {},
   "outputs": [
    {
     "name": "stdout",
     "output_type": "stream",
     "text": [
      "res : 答：痛苦是人体的一种自然反应，是我们对不快、伤害或失落感到的负面情绪。\n"
     ]
    }
   ],
   "source": [
    "import { Ollama } from \"@langchain/ollama\";\n",
    "\n",
    "const ollama = new Ollama({\n",
    "  baseUrl: \"http://localhost:11434\",\n",
    "  model: \"llama3.1\",\n",
    "});\n",
    "\n",
    "\n",
    "const res = await ollama.invoke(\"人为什么会痛苦\")\n",
    "console.log('res :', res);\n"
   ]
  }
 ],
 "metadata": {
  "kernelspec": {
   "display_name": "Deno",
   "language": "typescript",
   "name": "deno"
  },
  "language_info": {
   "codemirror_mode": "typescript",
   "file_extension": ".ts",
   "mimetype": "text/x.typescript",
   "name": "typescript",
   "nbconvert_exporter": "script",
   "pygments_lexer": "typescript",
   "version": "5.5.2"
  }
 },
 "nbformat": 4,
 "nbformat_minor": 5
}
