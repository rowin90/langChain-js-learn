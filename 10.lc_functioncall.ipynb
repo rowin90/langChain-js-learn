{
 "cells": [
  {
   "cell_type": "code",
   "execution_count": 2,
   "metadata": {},
   "outputs": [],
   "source": [
    "import { z } from \"zod\";\n",
    "\n",
    "const getCurrentWeatherSchema = z.object({\n",
    "  location: z.string().describe(\"The city and state, e.g. San Francisco, CA\"),\n",
    "  unit: z.enum([\"celsius\", \"fahrenheit\"]).describe(\"The unit of temperature\"),\n",
    "});\n"
   ]
  },
  {
   "cell_type": "code",
   "execution_count": 3,
   "metadata": {},
   "outputs": [
    {
     "name": "stdout",
     "output_type": "stream",
     "text": [
      "paramSchema : {\n",
      "  type: \"object\",\n",
      "  properties: {\n",
      "    location: {\n",
      "      type: \"string\",\n",
      "      description: \"The city and state, e.g. San Francisco, CA\"\n",
      "    },\n",
      "    unit: {\n",
      "      type: \"string\",\n",
      "      enum: [ \"celsius\", \"fahrenheit\" ],\n",
      "      description: \"The unit of temperature\"\n",
      "    }\n",
      "  },\n",
      "  required: [ \"location\", \"unit\" ],\n",
      "  additionalProperties: false,\n",
      "  \"$schema\": \"http://json-schema.org/draft-07/schema#\"\n",
      "}\n"
     ]
    }
   ],
   "source": [
    "import { zodToJsonSchema } from \"zod-to-json-schema\";\n",
    "\n",
    "const paramSchema = zodToJsonSchema(getCurrentWeatherSchema)\n",
    "console.log('paramSchema :', paramSchema);"
   ]
  },
  {
   "cell_type": "code",
   "execution_count": 4,
   "metadata": {},
   "outputs": [
    {
     "data": {
      "text/plain": [
       "AIMessage {\n",
       "  lc_serializable: \u001b[33mtrue\u001b[39m,\n",
       "  lc_kwargs: {\n",
       "    content: \u001b[32m\"\"\u001b[39m,\n",
       "    tool_calls: [],\n",
       "    invalid_tool_calls: [],\n",
       "    additional_kwargs: {\n",
       "      function_call: \u001b[90mundefined\u001b[39m,\n",
       "      tool_calls: [\n",
       "        {\n",
       "          id: \u001b[32m\"call_lRpMCwwSoePlwi9JSoTnpQcR\"\u001b[39m,\n",
       "          type: \u001b[32m\"function\"\u001b[39m,\n",
       "          function: \u001b[36m[Object]\u001b[39m\n",
       "        }\n",
       "      ]\n",
       "    },\n",
       "    response_metadata: {}\n",
       "  },\n",
       "  lc_namespace: [ \u001b[32m\"langchain_core\"\u001b[39m, \u001b[32m\"messages\"\u001b[39m ],\n",
       "  content: \u001b[32m\"\"\u001b[39m,\n",
       "  name: \u001b[90mundefined\u001b[39m,\n",
       "  additional_kwargs: {\n",
       "    function_call: \u001b[90mundefined\u001b[39m,\n",
       "    tool_calls: [\n",
       "      {\n",
       "        id: \u001b[32m\"call_lRpMCwwSoePlwi9JSoTnpQcR\"\u001b[39m,\n",
       "        type: \u001b[32m\"function\"\u001b[39m,\n",
       "        function: {\n",
       "          name: \u001b[32m\"getCurrentWeather\"\u001b[39m,\n",
       "          arguments: \u001b[32m'{\"location\":\"Beijing\",\"unit\":\"celsius\"}'\u001b[39m\n",
       "        }\n",
       "      }\n",
       "    ]\n",
       "  },\n",
       "  response_metadata: {\n",
       "    tokenUsage: { completionTokens: \u001b[33m20\u001b[39m, promptTokens: \u001b[33m88\u001b[39m, totalTokens: \u001b[33m108\u001b[39m },\n",
       "    finish_reason: \u001b[32m\"tool_calls\"\u001b[39m\n",
       "  },\n",
       "  tool_calls: [],\n",
       "  invalid_tool_calls: []\n",
       "}"
      ]
     },
     "execution_count": 4,
     "metadata": {},
     "output_type": "execute_result"
    }
   ],
   "source": [
    "import { ChatOpenAI } from \"@langchain/openai\";\n",
    "\n",
    "const model = new ChatOpenAI({\n",
    "  configuration: {\n",
    "      baseURL: \"https://api.shellgpt.top/v1\",\n",
    "  },\n",
    "  temperature:0\n",
    "});\n",
    "\n",
    "const modelWithTools = model.bind({\n",
    "  tools: [\n",
    "      {\n",
    "          type: \"function\",\n",
    "          function: {\n",
    "              name: \"getCurrentWeather\",\n",
    "              description: \"Get the current weather in a given location\",\n",
    "              parameters: zodToJsonSchema(getCurrentWeatherSchema),\n",
    "          }\n",
    "      }\n",
    "  ]\n",
    "})\n",
    "\n",
    "await modelWithTools.invoke(\"北京的天气怎么样\");"
   ]
  },
  {
   "cell_type": "code",
   "execution_count": 5,
   "metadata": {},
   "outputs": [
    {
     "data": {
      "text/plain": [
       "AIMessage {\n",
       "  lc_serializable: \u001b[33mtrue\u001b[39m,\n",
       "  lc_kwargs: {\n",
       "    content: \u001b[32m\"\"\u001b[39m,\n",
       "    tool_calls: [],\n",
       "    invalid_tool_calls: [],\n",
       "    additional_kwargs: {\n",
       "      function_call: \u001b[90mundefined\u001b[39m,\n",
       "      tool_calls: [\n",
       "        {\n",
       "          id: \u001b[32m\"call_aycDjNK9HPhiTplykLuPQzU7\"\u001b[39m,\n",
       "          type: \u001b[32m\"function\"\u001b[39m,\n",
       "          function: \u001b[36m[Object]\u001b[39m\n",
       "        }\n",
       "      ]\n",
       "    },\n",
       "    response_metadata: {}\n",
       "  },\n",
       "  lc_namespace: [ \u001b[32m\"langchain_core\"\u001b[39m, \u001b[32m\"messages\"\u001b[39m ],\n",
       "  content: \u001b[32m\"\"\u001b[39m,\n",
       "  name: \u001b[90mundefined\u001b[39m,\n",
       "  additional_kwargs: {\n",
       "    function_call: \u001b[90mundefined\u001b[39m,\n",
       "    tool_calls: [\n",
       "      {\n",
       "        id: \u001b[32m\"call_aycDjNK9HPhiTplykLuPQzU7\"\u001b[39m,\n",
       "        type: \u001b[32m\"function\"\u001b[39m,\n",
       "        function: {\n",
       "          name: \u001b[32m\"getCurrentWeather\"\u001b[39m,\n",
       "          arguments: \u001b[32m'{\"location\":\"Beijing\",\"unit\":\"celsius\"}'\u001b[39m\n",
       "        }\n",
       "      }\n",
       "    ]\n",
       "  },\n",
       "  response_metadata: {\n",
       "    tokenUsage: { completionTokens: \u001b[33m20\u001b[39m, promptTokens: \u001b[33m94\u001b[39m, totalTokens: \u001b[33m114\u001b[39m },\n",
       "    finish_reason: \u001b[32m\"tool_calls\"\u001b[39m\n",
       "  },\n",
       "  tool_calls: [],\n",
       "  invalid_tool_calls: []\n",
       "}"
      ]
     },
     "execution_count": 5,
     "metadata": {},
     "output_type": "execute_result"
    }
   ],
   "source": [
    "import { ChatPromptTemplate } from \"@langchain/core/prompts\";\n",
    "\n",
    "const prompt = ChatPromptTemplate.fromMessages([\n",
    "    [\"system\", \"You are a helpful assistant\"],\n",
    "    [\"human\", \"{input}\"]\n",
    "])\n",
    "\n",
    "const chain = prompt.pipe(modelWithTools)\n",
    "\n",
    "await chain.invoke({\n",
    "    input: \"北京的天气怎么样\"\n",
    "});\n"
   ]
  }
 ],
 "metadata": {
  "kernelspec": {
   "display_name": "Deno",
   "language": "typescript",
   "name": "deno"
  },
  "language_info": {
   "codemirror_mode": "typescript",
   "file_extension": ".ts",
   "mimetype": "text/x.typescript",
   "name": "typescript",
   "nbconvert_exporter": "script",
   "pygments_lexer": "typescript",
   "version": "5.5.2"
  }
 },
 "nbformat": 4,
 "nbformat_minor": 2
}
