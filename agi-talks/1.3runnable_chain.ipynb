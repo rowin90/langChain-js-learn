{
 "cells": [
  {
   "cell_type": "code",
   "execution_count": 10,
   "metadata": {},
   "outputs": [
    {
     "data": {
      "text/plain": [
       "{\n",
       "  answer: \u001b[32m\"地球是圆的是因为它受到了自身的重力作用，使得它的形状更趋于球形。这是由于地球的自转和它的内部结构所造成的。\"\u001b[39m,\n",
       "  sources: [\n",
       "    \u001b[32m\"https://zh.wikipedia.org/wiki/%E5%9C%B0%E7%90%83%E7%9A%84%E5%BD%A2%E7%8A%B6\"\u001b[39m,\n",
       "    \u001b[32m\"https://www.zhihu.com/question/20128893\"\u001b[39m\n",
       "  ]\n",
       "}"
      ]
     },
     "execution_count": 10,
     "metadata": {},
     "output_type": "execute_result"
    }
   ],
   "source": [
    "import { RunnableSequence } from '@langchain/core/runnables';\n",
    "import { PromptTemplate } from '@langchain/core/prompts';\n",
    "import { OpenAI } from \"@langchain/openai\";\n",
    "import { StringOutputParser ,StructuredOutputParser} from \"@langchain/core/output_parsers\";\n",
    "import { z } from 'zod'\n",
    "\n",
    "// const outputParser = new StringOutputParser()\n",
    "\n",
    "const outputParser = StructuredOutputParser.fromZodSchema(z.object({\n",
    "  answer: z.string().describe(\"answer to the user's question\"),\n",
    "  sources: z.array(z.string()).describe(\n",
    "    \"sources used to answer the question, should be websites.\",\n",
    "  ),\n",
    "}));\n",
    "\n",
    "const formatInstructions = outputParser.getFormatInstructions();\n",
    "\n",
    "// const promptTemplate = PromptTemplate.fromTemplate(\n",
    "//   \"{question}\",\n",
    "// );\n",
    "\n",
    "const promptTemplate = new PromptTemplate({\n",
    "  template:\n",
    "    \"Answer the users question as best as possible.\\n{format_instructions}\\n{question}\",\n",
    "  inputVariables: [\"question\"],\n",
    "  partialVariables: { format_instructions: formatInstructions },\n",
    "});\n",
    "\n",
    "const model = new OpenAI({\n",
    "  configuration: {\n",
    "      baseURL: \"https://api.shellgpt.top/v1\",\n",
    "  }\n",
    "});\n",
    "\n",
    "const chain = RunnableSequence.from([promptTemplate, model, outputParser]);\n",
    "\n",
    "await chain.invoke({\n",
    "  question:'为什么地球是圆的'\n",
    "})"
   ]
  }
 ],
 "metadata": {
  "kernelspec": {
   "display_name": "Deno",
   "language": "typescript",
   "name": "deno"
  },
  "language_info": {
   "codemirror_mode": "typescript",
   "file_extension": ".ts",
   "mimetype": "text/x.typescript",
   "name": "typescript",
   "nbconvert_exporter": "script",
   "pygments_lexer": "typescript",
   "version": "5.5.2"
  }
 },
 "nbformat": 4,
 "nbformat_minor": 2
}
