{
 "cells": [
  {
   "cell_type": "code",
   "execution_count": 1,
   "metadata": {},
   "outputs": [
    {
     "name": "stdout",
     "output_type": "stream",
     "text": [
      "formatInstructions : You must format your output as a JSON value that adheres to a given \"JSON Schema\" instance.\n",
      "\n",
      "\"JSON Schema\" is a declarative language that allows you to annotate and validate JSON documents.\n",
      "\n",
      "For example, the example \"JSON Schema\" instance {{\"properties\": {{\"foo\": {{\"description\": \"a list of test words\", \"type\": \"array\", \"items\": {{\"type\": \"string\"}}}}}}, \"required\": [\"foo\"]}}}}\n",
      "would match an object with one required property, \"foo\". The \"type\" property specifies \"foo\" must be an \"array\", and the \"description\" property semantically describes it as \"a list of test words\". The items within \"foo\" must be strings.\n",
      "Thus, the object {{\"foo\": [\"bar\", \"baz\"]}} is a well-formatted instance of this example \"JSON Schema\". The object {{\"properties\": {{\"foo\": [\"bar\", \"baz\"]}}}} is not well-formatted.\n",
      "\n",
      "Your output will be parsed and type-checked according to the provided schema instance, so make sure all fields in your output match the schema exactly and there are no trailing commas!\n",
      "\n",
      "Here is the JSON Schema instance your output must adhere to. Include the enclosing markdown codeblock:\n",
      "```json\n",
      "{\"type\":\"object\",\"properties\":{\"answer\":{\"type\":\"string\",\"description\":\"answer to the user's question\"},\"source\":{\"type\":\"string\",\"description\":\"source used to answer the user's question, should be a website.\"}},\"required\":[\"answer\",\"source\"],\"additionalProperties\":false,\"$schema\":\"http://json-schema.org/draft-07/schema#\"}\n",
      "```\n",
      "\n"
     ]
    }
   ],
   "source": [
    "// 结构化输出 JSON 格式\n",
    "import { PromptTemplate ,FewShotPromptTemplate} from '@langchain/core/prompts'\n",
    "\n",
    "import { StructuredOutputParser } from \"langchain/output_parsers\";\n",
    "\n",
    "const parser = StructuredOutputParser.fromNamesAndDescriptions({\n",
    "  answer: \"answer to the user's question\",\n",
    "  source: \"source used to answer the user's question, should be a website.\",\n",
    "});\n",
    "const formatInstructions = parser.getFormatInstructions();\n",
    "console.log('formatInstructions :', formatInstructions);\n"
   ]
  },
  {
   "cell_type": "code",
   "execution_count": 2,
   "metadata": {},
   "outputs": [],
   "source": [
    "const prompt = new PromptTemplate({\n",
    "  template:\n",
    "    \"Answer the users question as best as possible.\\n{format_instructions}\\n{question}\",\n",
    "  inputVariables: [\"question\"],\n",
    "  partialVariables: { format_instructions: formatInstructions },\n",
    "});\n",
    "\n",
    "const input = await prompt.format({\n",
    "  question: \"What is the capital of France?\",\n",
    "});"
   ]
  },
  {
   "cell_type": "code",
   "execution_count": 3,
   "metadata": {},
   "outputs": [
    {
     "data": {
      "text/plain": [
       "\u001b[32m\"\\n\"\u001b[39m +\n",
       "  \u001b[32m\"{\\n\"\u001b[39m +\n",
       "  \u001b[32m'    \"answer\": \"Paris\",\\n'\u001b[39m +\n",
       "  \u001b[32m'    \"source\": \"https://en.wikipedia.org/wiki/Paris\",\\n'\u001b[39m +\n",
       "  \u001b[32m\"}\"\u001b[39m"
      ]
     },
     "execution_count": 3,
     "metadata": {},
     "output_type": "execute_result"
    },
    {
     "ename": "",
     "evalue": "",
     "output_type": "error",
     "traceback": [
      "\u001b[1;31m在当前单元格或上一个单元格中执行代码时 Kernel 崩溃。\n",
      "\u001b[1;31m请查看单元格中的代码，以确定故障的可能原因。\n",
      "\u001b[1;31m单击<a href='https://aka.ms/vscodeJupyterKernelCrash'>此处</a>了解详细信息。\n",
      "\u001b[1;31m有关更多详细信息，请查看 Jupyter <a href='command:jupyter.viewOutput'>log</a>。"
     ]
    }
   ],
   "source": [
    "import { OpenAI } from \"@langchain/openai\";\n",
    "\n",
    "const model = new OpenAI({\n",
    "  configuration: {\n",
    "      baseURL: \"https://api.shellgpt.top/v1\",\n",
    "  }\n",
    "});\n",
    "\n",
    "await model.invoke(input)\n"
   ]
  },
  {
   "cell_type": "code",
   "execution_count": 1,
   "metadata": {},
   "outputs": [
    {
     "name": "stdout",
     "output_type": "stream",
     "text": [
      "a : ZodString {\n",
      "  spa: [Function: bound safeParseAsync] AsyncFunction,\n",
      "  _def: {\n",
      "    checks: [],\n",
      "    typeName: \"ZodString\",\n",
      "    coerce: false,\n",
      "    description: \"answer to the user's question\"\n",
      "  },\n",
      "  parse: [Function: bound parse],\n",
      "  safeParse: [Function: bound safeParse],\n",
      "  parseAsync: [Function: bound parseAsync] AsyncFunction,\n",
      "  safeParseAsync: [Function: bound safeParseAsync] AsyncFunction,\n",
      "  refine: [Function: bound refine],\n",
      "  refinement: [Function: bound refinement],\n",
      "  superRefine: [Function: bound superRefine],\n",
      "  optional: [Function: bound optional],\n",
      "  nullable: [Function: bound nullable],\n",
      "  nullish: [Function: bound nullish],\n",
      "  array: [Function: bound array],\n",
      "  promise: [Function: bound promise],\n",
      "  or: [Function: bound or],\n",
      "  and: [Function: bound and],\n",
      "  transform: [Function: bound transform],\n",
      "  brand: [Function: bound brand],\n",
      "  default: [Function: bound default],\n",
      "  catch: [Function: bound catch],\n",
      "  describe: [Function: bound describe],\n",
      "  pipe: [Function: bound pipe],\n",
      "  readonly: [Function: bound readonly],\n",
      "  isNullable: [Function: bound isNullable],\n",
      "  isOptional: [Function: bound isOptional]\n",
      "}\n"
     ]
    }
   ],
   "source": [
    "// with zod\n",
    "import { z } from 'zod'\n",
    "\n",
    "const parser = StructuredOutputParser.fromZodSchema(z.object({\n",
    "  answer: z.string().describe(\"answer to the user's question\"),\n",
    "  sources: z.array(z.string()).describe(\n",
    "    \"sources used to answer the question, should be websites.\",\n",
    "  ),\n",
    "}));\n",
    "const formatInstructions = parser.getFormatInstructions();\n",
    "const prompt = new PromptTemplate({\n",
    "  template:\n",
    "    \"Answer the users question as best as possible.\\n{format_instructions}\\n{question}\",\n",
    "  inputVariables: [\"question\"],\n",
    "  partialVariables: { format_instructions: formatInstructions },\n",
    "});\n"
   ]
  }
 ],
 "metadata": {
  "kernelspec": {
   "display_name": "Deno",
   "language": "typescript",
   "name": "deno"
  },
  "language_info": {
   "codemirror_mode": "typescript",
   "file_extension": ".ts",
   "mimetype": "text/x.typescript",
   "name": "typescript",
   "nbconvert_exporter": "script",
   "pygments_lexer": "typescript",
   "version": "5.5.2"
  }
 },
 "nbformat": 4,
 "nbformat_minor": 2
}
