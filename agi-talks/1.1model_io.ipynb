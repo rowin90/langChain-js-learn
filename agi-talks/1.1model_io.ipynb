{
 "cells": [
  {
   "cell_type": "code",
   "execution_count": 1,
   "metadata": {},
   "outputs": [
    {
     "name": "stderr",
     "output_type": "stream",
     "text": [
      "[WARN]: You have enabled LangSmith tracing without backgrounding callbacks.\n",
      "[WARN]: If you are not using a serverless environment where you must wait for tracing calls to finish,\n",
      "[WARN]: we suggest setting \"process.env.LANGCHAIN_CALLBACKS_BACKGROUND=true\" to avoid additional latency.\n"
     ]
    },
    {
     "data": {
      "text/plain": [
       "\u001b[32m'\\n\\n\"The only thing we have to fear is fear itself.\" - Franklin D. Roosevelt'\u001b[39m"
      ]
     },
     "execution_count": 1,
     "metadata": {},
     "output_type": "execute_result"
    }
   ],
   "source": [
    "import { OpenAI } from \"@langchain/openai\";\n",
    "\n",
    "const model = new OpenAI({\n",
    "  configuration: {\n",
    "      baseURL: \"https://api.shellgpt.top/v1\",\n",
    "  }\n",
    "});\n",
    "\n",
    "await model.invoke('Tell me a famous saying')\n"
   ]
  },
  {
   "cell_type": "code",
   "execution_count": 2,
   "metadata": {},
   "outputs": [
    {
     "name": "stdout",
     "output_type": "stream",
     "text": [
      "{\n",
      "  tokenUsage: { completionTokens: 211, promptTokens: 8, totalTokens: 219 },\n",
      "  generationTexts: [\n",
      "    \"\\n\\nWhy don't skeletons fight each other?\\n\\nThey don't have the guts.\",\n",
      "    \"\\n\" +\n",
      "      \"\\n\" +\n",
      "      \"A gentle breeze whispers through the trees\\n\" +\n",
      "      \"As the leaves rustle and dance with ease\\n\" +\n",
      "      \"The sun sets in a fiery blaze\\n\" +\n",
      "      \"As the night falls, casting its spellbound gaze\\n\" +\n",
      "      \"\\n\" +\n",
      "      \"The moon rises, a silver orb in the sky\\n\" +\n",
      "      \"Casting its light, as the stars come by\\n\" +\n",
      "      \"A symphony of crickets and frogs\\n\" +\n",
      "      \"Singing their songs, in nature's logs\\n\" +\n",
      "      \"\\n\" +\n",
      "      \"The quiet of the night, a peaceful lull\\n\" +\n",
      "      \"As the world around me begins to dull\\n\" +\n",
      "      \"My thoughts drift away, to a distant place\\n\" +\n",
      "      \"As I lose myself in this serene space\\n\" +\n",
      "      \"\\n\" +\n",
      "      \"The city lights, a distant glow\\n\" +\n",
      "      \"As I watch the stars, in their celestial show\\n\" +\n",
      "      \"A shooting star, streaks across the sky\\n\" +\n",
      "      \"Granting wishes, as it passes by\\n\" +\n",
      "      \"\\n\" +\n",
      "      \"In this moment, I am at peace\\n\" +\n",
      "      \"As the night's beauty, gives me release\\n\" +\n",
      "      \"For in this darkness, I find my light\\n\" +\n",
      "      \"And I am grateful, for this quiet night.\"\n",
      "  ]\n",
      "}\n"
     ]
    }
   ],
   "source": [
    "\n",
    "const { generations, llmOutput } = await model.generate([\n",
    "  \"Tell me a joke\",\n",
    "  \"Tell me a poem\",\n",
    "]);\n",
    "\n",
    "console.log({\n",
    "  ...llmOutput,\n",
    "  generationTexts: generations.map((v) => v[0].text),\n",
    "})\n"
   ]
  },
  {
   "cell_type": "code",
   "execution_count": 5,
   "metadata": {},
   "outputs": [
    {
     "data": {
      "text/plain": [
       "[\n",
       "  \u001b[32m\"\\n\\nWhy don't scientists trust atoms? Because they make up everything.\"\u001b[39m,\n",
       "  \u001b[32m\"\\n\"\u001b[39m +\n",
       "    \u001b[32m\"\\n\"\u001b[39m +\n",
       "    \u001b[32m\"A poem is a story,\\n\"\u001b[39m +\n",
       "    \u001b[32m\"That dances on the page,\\n\"\u001b[39m +\n",
       "    \u001b[32m\"A window to our souls,\\n\"\u001b[39m +\n",
       "    \u001b[32m\"A voice for every age.\\n\"\u001b[39m +\n",
       "    \u001b[32m\"\\n\"\u001b[39m +\n",
       "    \u001b[32m\"It weaves together words,\\n\"\u001b[39m +\n",
       "    \u001b[32m\"In a symphony of rhyme,\\n\"\u001b[39m +\n",
       "    \u001b[32m\"A tapestry of emotions,\\n\"\u001b[39m +\n",
       "    \u001b[32m\"That stands the test of time.\\n\"\u001b[39m +\n",
       "    \u001b[32m\"\\n\"\u001b[39m +\n",
       "    \u001b[32m\"It can capture love and loss,\\n\"\u001b[39m +\n",
       "    \u001b[32m\"And all the in-betweens,\\n\"\u001b[39m +\n",
       "    \u001b[32m\"It can paint a thousand pictures,\\n\"\u001b[39m +\n",
       "    \u001b[32m\"With just a few simple scenes.\\n\"\u001b[39m +\n",
       "    \u001b[32m\"\\n\"\u001b[39m +\n",
       "    \u001b[32m\"It speaks of nature's beauty,\\n\"\u001b[39m +\n",
       "    \u001b[32m\"And of life's harsh realities,\\n\"\u001b[39m +\n",
       "    \u001b[32m\"It can make us laugh or cry,\\n\"\u001b[39m +\n",
       "    \u001b[32m\"And stir our deepest sensibilities.\\n\"\u001b[39m +\n",
       "    \u001b[32m\"\\n\"\u001b[39m +\n",
       "    \u001b[32m\"A poem is a journey,\\n\"\u001b[39m +\n",
       "    \u001b[32m\"That takes us to new heights,\\n\"\u001b[39m +\n",
       "    \u001b[32m\"It can soothe our troubled minds,\\n\"\u001b[39m +\n",
       "    \u001b[32m\"And bring us inner light.\\n\"\u001b[39m +\n",
       "    \u001b[32m\"\\n\"\u001b[39m +\n",
       "    \u001b[32m\"So let us embrace the power,\\n\"\u001b[39m +\n",
       "    \u001b[32m\"Of this art form divine,\\n\"\u001b[39m +\n",
       "    \u001b[32m\"For a poem is more than words,\\n\"\u001b[39m +\n",
       "    \u001b[32m\"It's a piece of the heart's design.\"\u001b[39m\n",
       "]"
      ]
     },
     "execution_count": 5,
     "metadata": {},
     "output_type": "execute_result"
    },
    {
     "ename": "",
     "evalue": "",
     "output_type": "error",
     "traceback": [
      "\u001b[1;31m在当前单元格或上一个单元格中执行代码时 Kernel 崩溃。\n",
      "\u001b[1;31m请查看单元格中的代码，以确定故障的可能原因。\n",
      "\u001b[1;31m单击<a href='https://aka.ms/vscodeJupyterKernelCrash'>此处</a>了解详细信息。\n",
      "\u001b[1;31m有关更多详细信息，请查看 Jupyter <a href='command:jupyter.viewOutput'>log</a>。"
     ]
    }
   ],
   "source": [
    " await model.batch([\n",
    "  \"Tell me a joke\",\n",
    "  \"Tell me a poem\",\n",
    "]);\n"
   ]
  },
  {
   "cell_type": "code",
   "execution_count": 15,
   "metadata": {},
   "outputs": [
    {
     "name": "stdout",
     "output_type": "stream",
     "text": [
      "Give the antonym of every input\n",
      "\n",
      "Input: happy\n",
      "Output: sad\n",
      "\n",
      "Input: tall\n",
      "Output: short\n",
      "\n",
      "Input: energetic\n",
      "Output: lethargic\n",
      "\n",
      "Input: sunny\n",
      "Output: gloomy\n",
      "\n",
      "Input: windy\n",
      "Output: calm\n",
      "\n",
      "Input: big\n",
      "Output:\n",
      "Give the antonym of every input\n",
      "\n",
      "Input: happy\n",
      "Output: sad\n",
      "\n",
      "Input: big and huge and massive and large and gigantic and tall and much much much much much bigger than everything else\n",
      "Output:\n"
     ]
    },
    {
     "ename": "",
     "evalue": "",
     "output_type": "error",
     "traceback": [
      "\u001b[1;31m在当前单元格或上一个单元格中执行代码时 Kernel 崩溃。\n",
      "\u001b[1;31m请查看单元格中的代码，以确定故障的可能原因。\n",
      "\u001b[1;31m单击<a href='https://aka.ms/vscodeJupyterKernelCrash'>此处</a>了解详细信息。\n",
      "\u001b[1;31m有关更多详细信息，请查看 Jupyter <a href='command:jupyter.viewOutput'>log</a>。"
     ]
    }
   ],
   "source": [
    "// 长度选择器\n",
    "import { LengthBasedExampleSelector } from '@langchain/core/example_selectors'\n",
    "import { PromptTemplate ,FewShotPromptTemplate} from '@langchain/core/prompts'\n",
    "\n",
    "const exampleSelector = await LengthBasedExampleSelector.fromExamples(\n",
    "  [\n",
    "    { input: \"happy\", output: \"sad\" },\n",
    "    { input: \"tall\", output: \"short\" },\n",
    "    { input: \"energetic\", output: \"lethargic\" },\n",
    "    { input: \"sunny\", output: \"gloomy\" },\n",
    "    { input: \"windy\", output: \"calm\" },\n",
    "  ],\n",
    "  {\n",
    "    examplePrompt: new PromptTemplate({\n",
    "      inputVariables: [\"input\", \"output\"],\n",
    "      template: \"Input: {input}\\nOutput: {output}\",\n",
    "    }),\n",
    "    maxLength: 25,\n",
    "  },\n",
    ");\n",
    "const dynamicPrompt = new FewShotPromptTemplate({\n",
    "  exampleSelector,\n",
    "  examplePrompt: new PromptTemplate({\n",
    "    inputVariables: [\"input\", \"output\"],\n",
    "    template: \"Input: {input}\\nOutput: {output}\",\n",
    "  }),\n",
    "  prefix: \"Give the antonym of every input\",\n",
    "  suffix: \"Input: {adjective}\\nOutput:\",\n",
    "  inputVariables: [\"adjective\"],\n",
    "});\n",
    "// 根据token长度，来取自动截取对应的例子的长度，\n",
    "console.log(await dynamicPrompt.format({ adjective: \"big\" }));\n",
    "console.log(\n",
    "   await dynamicPrompt.format({\n",
    "    adjective:\n",
    "      \"big and huge and massive and large and gigantic and tall and much much much much much bigger than everything else\",\n",
    "  }),\n",
    ");"
   ]
  }
 ],
 "metadata": {
  "kernelspec": {
   "display_name": "Deno",
   "language": "typescript",
   "name": "deno"
  },
  "language_info": {
   "codemirror_mode": "typescript",
   "file_extension": ".ts",
   "mimetype": "text/x.typescript",
   "name": "typescript",
   "nbconvert_exporter": "script",
   "pygments_lexer": "typescript",
   "version": "5.5.2"
  }
 },
 "nbformat": 4,
 "nbformat_minor": 2
}
